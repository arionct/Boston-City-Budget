{
 "cells": [
  {
   "cell_type": "code",
   "execution_count": null,
   "metadata": {},
   "outputs": [],
   "source": [
    "import pandas as pd\n",
    "from statsmodels.tsa.arima.model import ARIMA\n",
    "\n",
    "# Read the data from the CSV file\n",
    "cap_budg = pd.read_csv('./data/capital_budget.csv')\n",
    "op_budg = pd.read_csv('./data/operating_budget.csv')\n",
    "\n",
    "# Clean the data\n",
    "op_budg.replace(\"#Missing\", 0, inplace=True)\n",
    "op_budg['FY22 Actual Expense'] = pd.to_numeric(op_budg['FY22 Actual Expense'].str.replace(',', ''))\n",
    "op_budg['FY23 Actual Expense'] = pd.to_numeric(op_budg['FY23 Actual Expense'].str.replace(',', ''))\n",
    "op_budg['FY24 Appropriation'] = pd.to_numeric(op_budg['FY24 Appropriation'].str.replace(',', ''))\n",
    "op_budg['FY25 Budget'] = pd.to_numeric(op_budg['FY25 Budget'].str.replace(',', ''))"
   ]
  },
  {
   "cell_type": "code",
   "execution_count": 12,
   "metadata": {},
   "outputs": [
    {
     "name": "stdout",
     "output_type": "stream",
     "text": [
      "Forecasted budget for Boston Public Schools for the next 5 years:\n",
      "2026-01-01    $1,599,975,590.06\n",
      "2027-01-01    $1,671,433,548.92\n",
      "2028-01-01    $1,741,051,931.07\n",
      "2029-01-01    $1,808,878,093.60\n",
      "2030-01-01    $1,874,958,174.49\n",
      "Freq: AS-JAN, Name: predicted_mean, dtype: object \n",
      "\n"
     ]
    },
    {
     "name": "stderr",
     "output_type": "stream",
     "text": [
      "/Users/ariontripathi/opt/anaconda3/lib/python3.9/site-packages/statsmodels/tsa/base/tsa_model.py:471: ValueWarning: No frequency information was provided, so inferred frequency AS-JAN will be used.\n",
      "  self._init_dates(dates, freq)\n",
      "/Users/ariontripathi/opt/anaconda3/lib/python3.9/site-packages/statsmodels/tsa/base/tsa_model.py:471: ValueWarning: No frequency information was provided, so inferred frequency AS-JAN will be used.\n",
      "  self._init_dates(dates, freq)\n",
      "/Users/ariontripathi/opt/anaconda3/lib/python3.9/site-packages/statsmodels/tsa/base/tsa_model.py:471: ValueWarning: No frequency information was provided, so inferred frequency AS-JAN will be used.\n",
      "  self._init_dates(dates, freq)\n",
      "/Users/ariontripathi/opt/anaconda3/lib/python3.9/site-packages/statsmodels/tsa/statespace/sarimax.py:866: UserWarning: Too few observations to estimate starting parameters for ARMA and trend. All parameters except for variances will be set to zeros.\n",
      "  warn('Too few observations to estimate starting parameters%s.'\n"
     ]
    }
   ],
   "source": [
    "# Time Series Analysis and Forecasting\n",
    "\n",
    "# Prepare time series data for a specific department (can explore other departments)\n",
    "dept = 'Boston Public Schools'\n",
    "dept_data = op_budg[op_budg['Dept'] == dept][['FY22 Actual Expense', 'FY23 Actual Expense', 'FY24 Appropriation', 'FY25 Budget']].sum()\n",
    "dept_data.index = pd.to_datetime(['2022', '2023', '2024', '2025'])\n",
    "dept_series = dept_data.squeeze()\n",
    "\n",
    "# Fit ARIMA model\n",
    "model = ARIMA(dept_series, order=(1, 1, 1))\n",
    "model_fit = model.fit()\n",
    "\n",
    "# Forecast\n",
    "forecast = model_fit.forecast(steps=5)\n",
    "\n",
    "# Convert scientific notation to float and add dollar sign + commas\n",
    "forecast = forecast.apply(lambda x: f'${x:,.2f}')\n",
    "\n",
    "print(f\"Forecasted budget for {dept} for the next 5 years:\")\n",
    "print(forecast, \"\\n\")\n"
   ]
  }
 ],
 "metadata": {
  "kernelspec": {
   "display_name": "base",
   "language": "python",
   "name": "python3"
  },
  "language_info": {
   "codemirror_mode": {
    "name": "ipython",
    "version": 3
   },
   "file_extension": ".py",
   "mimetype": "text/x-python",
   "name": "python",
   "nbconvert_exporter": "python",
   "pygments_lexer": "ipython3",
   "version": "3.9.13"
  }
 },
 "nbformat": 4,
 "nbformat_minor": 2
}
